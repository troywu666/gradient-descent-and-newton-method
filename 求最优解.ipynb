{
 "cells": [
  {
   "cell_type": "code",
   "execution_count": 1,
   "metadata": {
    "ExecuteTime": {
     "end_time": "2019-02-27T15:39:52.356920Z",
     "start_time": "2019-02-27T15:39:52.342913Z"
    }
   },
   "outputs": [],
   "source": [
    "import numpy as np\n",
    "np.random.seed(12)\n",
    "x_1=np.random.multivariate_normal([0,0],[[1,0.75],[0.75,1]],5000)\n",
    "x_2=np.random.multivariate_normal([1,4],[[1,0.75],[0.75,1]],5000)\n",
    "x=np.vstack((x_1,x_2)).astype(np.float32)\n",
    "y=np.hstack((np.zeros(5000),np.ones(5000)))"
   ]
  },
  {
   "cell_type": "markdown",
   "metadata": {},
   "source": [
    "## 梯度下降法"
   ]
  },
  {
   "cell_type": "code",
   "execution_count": 9,
   "metadata": {
    "ExecuteTime": {
     "end_time": "2019-02-27T15:47:12.471988Z",
     "start_time": "2019-02-27T15:46:22.206348Z"
    }
   },
   "outputs": [
    {
     "data": {
      "text/plain": [
       "array([ -4.65698075,   7.67321372, -12.66545439])"
      ]
     },
     "execution_count": 9,
     "metadata": {},
     "output_type": "execute_result"
    }
   ],
   "source": [
    "import numpy as np\n",
    "import pandas as pd\n",
    "\n",
    "def sigmoid_func(x1,x2,theta_1,theta_2,theta_0):\n",
    "    z=(x1*theta_1+x2*theta_2+theta_0).astype('float_')\n",
    "    return 1.0/(1.0+np.exp(-z))\n",
    "def gradient_once(x1,x2,y,theta_1,theta_2,theta_0):\n",
    "    hx=sigmoid_func(x1,x2,theta_1,theta_2,theta_0)\n",
    "    return [1/len(y)*np.sum((y-hx)*x1),1/len(y)*np.sum((y-hx)*x2),1/len(y)*(np.sum(y-hx))]\n",
    "def gradient(x1,x2,y,theta_1=0.1,theta_2=-0.4,theta_0=0.6,times=200000,alpha=0.9):\n",
    "    hx=sigmoid_func(x1,x2,theta_1,theta_2,theta_0)\n",
    "    for i in range(times):\n",
    "        grad=gradient_once(x1,x2,y,theta_1,theta_2,theta_0)##注意theta参数是在不断变化的\n",
    "        theta_1+=alpha*(grad[0])\n",
    "        theta_2+=alpha*(grad[1])\n",
    "        theta_0+=alpha*(grad[2])\n",
    "    return np.array([theta_1,theta_2,theta_0])\n",
    "\n",
    "gradient(x1=x[:,0],x2=x[:,1],y=y)"
   ]
  },
  {
   "cell_type": "markdown",
   "metadata": {},
   "source": [
    "## 牛顿法"
   ]
  },
  {
   "cell_type": "code",
   "execution_count": 17,
   "metadata": {
    "ExecuteTime": {
     "end_time": "2019-02-27T16:03:09.558657Z",
     "start_time": "2019-02-27T16:03:09.500618Z"
    }
   },
   "outputs": [
    {
     "name": "stdout",
     "output_type": "stream",
     "text": [
      "-0.6501461280079798 1.327366314586647 -2.153314057191051\n",
      "-1.1557061134133608 2.068597258770037 -3.4283119417984795\n",
      "-1.6911172742375484 2.8923267855765493 -4.828072797782857\n",
      "-2.2935474446351174 3.8429622069927714 -6.421956890258746\n",
      "-2.9753600123497 4.93448841622149 -8.224172289145924\n",
      "-3.694181201106862 6.096377290291375 -10.117389821945295\n",
      "-4.299665075029961 7.084221583135914 -11.714969169409866\n",
      "-4.6024632581275275 7.582780542420976 -12.519469117620377\n",
      "-4.655640606621558 7.670979639240354 -12.661843784707338\n",
      "-4.656979888176028 7.673212595361799 -12.665451432353251\n",
      "-4.6569806712293484 7.673213928736462 -12.665454530748445\n",
      "-4.656980969835793 7.673213845227367 -12.665453870221409\n",
      "-4.656980809231107 7.673213789635086 -12.66545421483665\n"
     ]
    },
    {
     "data": {
      "text/plain": [
       "array([ -4.65698081,   7.67321379, -12.66545421])"
      ]
     },
     "execution_count": 17,
     "metadata": {},
     "output_type": "execute_result"
    }
   ],
   "source": [
    "import numpy as np\n",
    "import pandas as pd\n",
    "\n",
    "def sigmoid_func(x1,x2,theta_1,theta_2,theta_0):\n",
    "    z=(theta_1*x1+theta_2*x2+theta_0).astype('float_')\n",
    "    return 1.0/(1.0+np.exp(-z))\n",
    "\n",
    "def new_once(x1,x2,theta_1,theta_2,theta_0):\n",
    "    '''尤其需要注意这是损失函数的一次求导！！！'''\n",
    "    hx=sigmoid_func(x1,x2,theta_1,theta_2,theta_0)\n",
    "    return np.array([np.sum((y-hx)*x1),np.sum((y-hx)*x2),np.sum(y-hx)])\n",
    "\n",
    "\n",
    "def hessian(x1,x2,theta_1,theta_2,theta_0):\n",
    "    hx=sigmoid_func(x1,x2,theta_1,theta_2,theta_0)\n",
    "    h1=np.sum(hx*(1-hx)*x1*x1)\n",
    "    h2=np.sum(hx*(1-hx)*x1*x2)\n",
    "    h3=np.sum(hx*(1-hx)*x1)\n",
    "    h4=np.sum(hx*(1-hx)*x2*x1)\n",
    "    h5=np.sum(hx*(1-hx)*x2*x2)\n",
    "    h6=np.sum(hx*(1-hx)*x2)\n",
    "    h7=np.sum(hx*(1-hx)*x1)\n",
    "    h8=np.sum(hx*(1-hx)*x2)\n",
    "    h9=np.sum(hx*(1-hx))\n",
    "    return np.array([[h1,h2,h3],\n",
    "                    [h4,h5,h6],\n",
    "                     [h7,h8,h9]])\n",
    "\n",
    "def cost(x1,x2,y,theta_1,theta_2,theta_0):\n",
    "    hx=sigmoid_func(x1,x2,theta_1,theta_2,theta_0)\n",
    "    return -np.mean(y*np.log(hx)+(1-y)*np.log(1-hx))\n",
    "\n",
    "def newton(x1,x2,y,theta_1=0.1,theta_2=-0.4,theta_0=0.6,times=15):\n",
    "    Cost=cost(x1,x2,y,theta_1,theta_2,theta_0)\n",
    "    l=np.Infinity\n",
    "    while abs(l)>0.0000000001 and times>0:\n",
    "        n=new_once(x1,x2,theta_1,theta_2,theta_0)\n",
    "        hes=hessian(x1,x2,theta_1,theta_2,theta_0)\n",
    "        n_gard=(np.linalg.inv(hes))@ n.T##注意矩阵乘号使用时与元素优先性的问题\n",
    "        times-=1\n",
    "        theta_1+=(n_gard[0])\n",
    "        theta_2+=(n_gard[1])\n",
    "        theta_0+=(n_gard[2])\n",
    "        print(theta_1,theta_2,theta_0)\n",
    "        cost_=cost(x1,x2,y,theta_1,theta_2,theta_0)\n",
    "        l=Cost-cost_\n",
    "        Cost=cost_\n",
    "    return np.array([theta_1,theta_2,theta_0])##注意return前面的空格\n",
    "newton(x1=x[:,0],x2=x[:,1],y=y)"
   ]
  },
  {
   "cell_type": "markdown",
   "metadata": {},
   "source": [
    "## 用sklearn自带函数求解"
   ]
  },
  {
   "cell_type": "code",
   "execution_count": 20,
   "metadata": {
    "ExecuteTime": {
     "end_time": "2019-02-27T17:02:11.384849Z",
     "start_time": "2019-02-27T17:02:11.362833Z"
    }
   },
   "outputs": [
    {
     "name": "stdout",
     "output_type": "stream",
     "text": [
      "[[-4.64258797  7.64946563]] [-12.62732331]\n"
     ]
    }
   ],
   "source": [
    "import numpy as np\n",
    "import pandas as pd\n",
    "from sklearn.linear_model import LogisticRegression\n",
    "\n",
    "lr=LogisticRegression(fit_intercept=True,C=1e15)\n",
    "lr.fit(x,y)\n",
    "print(lr.coef_,lr.intercept_)"
   ]
  }
 ],
 "metadata": {
  "kernelspec": {
   "display_name": "Python 3",
   "language": "python",
   "name": "python3"
  },
  "language_info": {
   "codemirror_mode": {
    "name": "ipython",
    "version": 3
   },
   "file_extension": ".py",
   "mimetype": "text/x-python",
   "name": "python",
   "nbconvert_exporter": "python",
   "pygments_lexer": "ipython3",
   "version": "3.7.0"
  },
  "latex_envs": {
   "LaTeX_envs_menu_present": true,
   "autoclose": false,
   "autocomplete": true,
   "bibliofile": "biblio.bib",
   "cite_by": "apalike",
   "current_citInitial": 1,
   "eqLabelWithNumbers": true,
   "eqNumInitial": 1,
   "hotkeys": {
    "equation": "Ctrl-E",
    "itemize": "Ctrl-I"
   },
   "labels_anchors": false,
   "latex_user_defs": false,
   "report_style_numbering": false,
   "user_envs_cfg": false
  },
  "toc": {
   "base_numbering": 1,
   "nav_menu": {},
   "number_sections": true,
   "sideBar": true,
   "skip_h1_title": false,
   "title_cell": "Table of Contents",
   "title_sidebar": "Contents",
   "toc_cell": false,
   "toc_position": {},
   "toc_section_display": true,
   "toc_window_display": false
  },
  "varInspector": {
   "cols": {
    "lenName": 16,
    "lenType": 16,
    "lenVar": 40
   },
   "kernels_config": {
    "python": {
     "delete_cmd_postfix": "",
     "delete_cmd_prefix": "del ",
     "library": "var_list.py",
     "varRefreshCmd": "print(var_dic_list())"
    },
    "r": {
     "delete_cmd_postfix": ") ",
     "delete_cmd_prefix": "rm(",
     "library": "var_list.r",
     "varRefreshCmd": "cat(var_dic_list()) "
    }
   },
   "types_to_exclude": [
    "module",
    "function",
    "builtin_function_or_method",
    "instance",
    "_Feature"
   ],
   "window_display": false
  }
 },
 "nbformat": 4,
 "nbformat_minor": 2
}
