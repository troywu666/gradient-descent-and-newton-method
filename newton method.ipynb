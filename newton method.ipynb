{
 "cells": [
  {
   "cell_type": "code",
   "execution_count": 55,
   "metadata": {
    "ExecuteTime": {
     "end_time": "2019-02-27T11:23:27.704399Z",
     "start_time": "2019-02-27T11:23:27.677378Z"
    }
   },
   "outputs": [],
   "source": [
    "import numpy as np\n",
    "import pandas as pd\n",
    "\n",
    "np.random.seed(12)\n",
    "x_1=np.random.multivariate_normal([0,0],[[1,0.75],[0.75,1]],5000)\n",
    "x_2=np.random.multivariate_normal([1,4],[[1,0.75],[0.75,1]],5000)\n",
    "x=np.vstack((x_1,x_2)).astype(np.float32)\n",
    "x1=x[:,0]\n",
    "x2=x[:,1]\n",
    "y1=np.zeros(5000)\n",
    "y2=np.ones(5000)\n",
    "y=np.hstack((y1,y2))"
   ]
  },
  {
   "cell_type": "code",
   "execution_count": 56,
   "metadata": {
    "ExecuteTime": {
     "end_time": "2019-02-27T11:23:28.387348Z",
     "start_time": "2019-02-27T11:23:28.187407Z"
    }
   },
   "outputs": [
    {
     "data": {
      "text/plain": [
       "array([ -5.05901198,   8.28958308, -14.0923001 ])"
      ]
     },
     "execution_count": 56,
     "metadata": {},
     "output_type": "execute_result"
    }
   ],
   "source": [
    "def sigmoid_func(x1,x2,theta_1,theta_2,theta_0):\n",
    "    z=(theta_1*x1+theta_2*x2+theta_0).astype('float_')##浮点型和非浮点型会产生截然不同的结果\n",
    "    return 1/(1+np.exp(-z))\n",
    "def newton_once(x1,x2,theta_1,theta_2,theta_0,y):\n",
    "    hx=sigmoid_func(x1,x2,theta_1,theta_2,theta_0)\n",
    "    return np.array([np.sum((y-hx)*x1),\n",
    "                   np.sum((y-hx)*x2),\n",
    "                   np.sum(y-hx)])\n",
    "def hessian(x1,x2,theta_1,theta_2,theta_0):\n",
    "    hx=sigmoid_func(x1,x2,theta_1,theta_2,theta_0)\n",
    "    y1=np.sum(hx*(1-hx)*x1*x1)\n",
    "    y2=np.sum(hx*(1-hx)*x1*x2)\n",
    "    y3=np.sum(hx*(1-hx)*x1)\n",
    "    y4=np.sum(hx*(1-hx)*x2*x1)\n",
    "    y5=np.sum(hx*(1-hx)*x2*x2)\n",
    "    y6=np.sum(hx*(1-hx)*x2)\n",
    "    y7=np.sum(hx*(1-hx)*x1)\n",
    "    y8=np.sum(hx*(1-hx)*x2)\n",
    "    y9=np.sum(hx*(1-hx))\n",
    "    return np.array([[y1,y2,y3],[y4,y5,y6],[y7,y8,y9]])##输出必须为数组否则会成为list\n",
    "\n",
    "def newton(x1,x2,y,theta_1=0.001,theta_2=-0.4,theta_0=0.6):\n",
    "    times=15\n",
    "    changing=np.Infinity\n",
    "    cost_1=1\n",
    "    while abs(changing)>0.0000000001 and times>0:\n",
    "        times-=1\n",
    "        hes=hessian(x1,x2,theta_1,theta_2,theta_0)\n",
    "        ne=newton_once(x1,x2,theta_1,theta_2,theta_0,y)\n",
    "        delta=(np.linalg.inv(hes))@ne.T##注意矩阵相乘的符号\n",
    "        theta_1+=delta[0]\n",
    "        theta_2+=delta[1]\n",
    "        theta_0+=delta[2]\n",
    "        hx=sigmoid_func(x1,x2,theta_1,theta_2,theta_0)\n",
    "        cost=np.mean(-y*np.log(hx)-(1-y)*np.log(1-hx))\n",
    "        changing=cost_1-cost\n",
    "        cost_1=cost\n",
    "    return np.array([theta_1,theta_2,theta_0])\n",
    "newton(x1=x1,x2=x2,y=y)   "
   ]
  },
  {
   "cell_type": "code",
   "execution_count": null,
   "metadata": {},
   "outputs": [],
   "source": []
  }
 ],
 "metadata": {
  "kernelspec": {
   "display_name": "tensorflow35",
   "language": "python",
   "name": "tensorflow35"
  },
  "language_info": {
   "codemirror_mode": {
    "name": "ipython",
    "version": 3
   },
   "file_extension": ".py",
   "mimetype": "text/x-python",
   "name": "python",
   "nbconvert_exporter": "python",
   "pygments_lexer": "ipython3",
   "version": "3.5.4"
  },
  "latex_envs": {
   "LaTeX_envs_menu_present": true,
   "autoclose": false,
   "autocomplete": true,
   "bibliofile": "biblio.bib",
   "cite_by": "apalike",
   "current_citInitial": 1,
   "eqLabelWithNumbers": true,
   "eqNumInitial": 1,
   "hotkeys": {
    "equation": "Ctrl-E",
    "itemize": "Ctrl-I"
   },
   "labels_anchors": false,
   "latex_user_defs": false,
   "report_style_numbering": false,
   "user_envs_cfg": false
  },
  "toc": {
   "base_numbering": 1,
   "nav_menu": {},
   "number_sections": true,
   "sideBar": true,
   "skip_h1_title": false,
   "title_cell": "Table of Contents",
   "title_sidebar": "Contents",
   "toc_cell": false,
   "toc_position": {},
   "toc_section_display": true,
   "toc_window_display": false
  },
  "varInspector": {
   "cols": {
    "lenName": 16,
    "lenType": 16,
    "lenVar": 40
   },
   "kernels_config": {
    "python": {
     "delete_cmd_postfix": "",
     "delete_cmd_prefix": "del ",
     "library": "var_list.py",
     "varRefreshCmd": "print(var_dic_list())"
    },
    "r": {
     "delete_cmd_postfix": ") ",
     "delete_cmd_prefix": "rm(",
     "library": "var_list.r",
     "varRefreshCmd": "cat(var_dic_list()) "
    }
   },
   "types_to_exclude": [
    "module",
    "function",
    "builtin_function_or_method",
    "instance",
    "_Feature"
   ],
   "window_display": false
  }
 },
 "nbformat": 4,
 "nbformat_minor": 2
}
