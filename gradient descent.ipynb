{
 "cells": [
  {
   "cell_type": "code",
   "execution_count": 15,
   "metadata": {
    "ExecuteTime": {
     "end_time": "2019-02-25T15:11:32.080231Z",
     "start_time": "2019-02-25T15:11:32.008183Z"
    }
   },
   "outputs": [],
   "source": [
    "def sigmoid(x1,x2,theta_1,theta_2,theta_3):\n",
    "    z=(x1*theta_1+x2*theta_2+theta_3).astype('float_')\n",
    "    return 1.0/(1.0+np.exp(-z))\n",
    "\n",
    "def gradient_one(x1,x2,theta_1,theta_2,theta_3,y):\n",
    "    hx=sigmoid(x1,x2,theta_1,theta_2,theta_3)\n",
    "    alpha_1=1/len(y)*np.sum((y-hx)*x1)\n",
    "    alpha_2=1/len(y)*np.sum((y-hx)*x2)\n",
    "    alpha_3=1/len(y)*np.sum((y-hx))\n",
    "    return alpha_1,alpha_2,alpha_3\n",
    "\n",
    "def gradient(x1,x2,y,theta_1=0.1,theta_2=0.9,theta_3=0.4,max_loop=20,alpha=0.1):\n",
    "    for i in range(max_loop):\n",
    "        delta_1,delta_2,delta_3=gradient_one(x1,x2,theta_1,theta_2,theta_3,y)\n",
    "        theta_1+=alpha*delta_1\n",
    "        theta_2+=alpha*delta_2\n",
    "        theta_3+=alpha*delta_3     \n",
    "    return [delta_1,delta_2,delta_3]"
   ]
  },
  {
   "cell_type": "code",
   "execution_count": 16,
   "metadata": {
    "ExecuteTime": {
     "end_time": "2019-02-25T15:11:32.656171Z",
     "start_time": "2019-02-25T15:11:32.620145Z"
    }
   },
   "outputs": [],
   "source": [
    "import numpy as np\n",
    "import matplotlib.pyplot as plt\n",
    "%matplotlib inline\n",
    "\n",
    "np.random.seed(12)\n",
    "num_observations = 5000\n",
    "\n",
    "x1 = np.random.multivariate_normal([0, 0], [[1, .75],[.75, 1]], num_observations)\n",
    "x2 = np.random.multivariate_normal([1, 4], [[1, .75],[.75, 1]], num_observations)\n",
    "\n",
    "simulated_separableish_features = np.vstack((x1, x2)).astype(np.float32)\n",
    "simulated_labels = np.hstack((np.zeros(num_observations),\n",
    "                              np.ones(num_observations)))"
   ]
  },
  {
   "cell_type": "code",
   "execution_count": 17,
   "metadata": {
    "ExecuteTime": {
     "end_time": "2019-02-25T15:12:40.182680Z",
     "start_time": "2019-02-25T15:11:35.028525Z"
    }
   },
   "outputs": [
    {
     "name": "stdout",
     "output_type": "stream",
     "text": [
      "[-1.8617213591198835e-09, -2.5363573357140016e-09, -1.3400418549025517e-09]\n"
     ]
    }
   ],
   "source": [
    "weights = gradient(x1=simulated_separableish_features[:,0],\\\n",
    "                    x2=simulated_separableish_features[:,1],\\\n",
    "                    y=simulated_labels,max_loop=200000,alpha=0.9)\n",
    "print(weights)"
   ]
  },
  {
   "cell_type": "code",
   "execution_count": 44,
   "metadata": {
    "ExecuteTime": {
     "end_time": "2019-02-18T15:42:38.961242Z",
     "start_time": "2019-02-18T15:42:38.953238Z"
    }
   },
   "outputs": [
    {
     "data": {
      "text/plain": [
       "array([-0.2015173 ,  0.37451947, -0.16189468, ...,  2.3255963 ,\n",
       "        0.24707289,  1.7190224 ], dtype=float32)"
      ]
     },
     "execution_count": 44,
     "metadata": {},
     "output_type": "execute_result"
    }
   ],
   "source": [
    "simulated_separableish_features[:,0]"
   ]
  },
  {
   "cell_type": "code",
   "execution_count": null,
   "metadata": {},
   "outputs": [],
   "source": []
  },
  {
   "cell_type": "code",
   "execution_count": 30,
   "metadata": {
    "ExecuteTime": {
     "end_time": "2019-02-25T16:59:49.524161Z",
     "start_time": "2019-02-25T16:59:48.776667Z"
    }
   },
   "outputs": [
    {
     "data": {
      "text/plain": [
       "(2.251933637438202, -1.6479397849219295, -1.0974853926240917)"
      ]
     },
     "execution_count": 30,
     "metadata": {},
     "output_type": "execute_result"
    }
   ],
   "source": [
    "import numpy as np\n",
    "import pandas as pd\n",
    "\n",
    "def sigmoid_func(x1,x2,theta_1,theta_2,theta_0):\n",
    "    z=(x1*theta_1+x2*theta_2+theta_0).astype('float')\n",
    "    return 1/(1+np.exp(-z))\n",
    "\n",
    "def gradient_once(x1,x2,theta_1,theta_2,theta_0,y):\n",
    "    hx=sigmoid_func(x1,x2,theta_1,theta_2,theta_0)\n",
    "    return 1/len(y)*np.sum((y-hx)*x1),1/len(y)*np.sum((y-hx)*x2),1/len(y)*np.sum(y-hx)\n",
    "\n",
    "def gradient(x1,x2,theta_1,theta_2,theta_0,y,alpha=0.1,maxloop=1000):\n",
    "    for i in range(maxloop):\n",
    "        delta_1,delta_2,delta_3=gradient_once(x1,x2,theta_1,theta_2,theta_0,y)\n",
    "        theta_1+=alpha*delta_1\n",
    "        theta_2+=alpha*delta_2\n",
    "        theta_0+=alpha*delta_3\n",
    "    return theta_1,theta_2,theta_0\n",
    "\n",
    "x1=np.random.multivariate_normal([0,0],[[1,0.75],[0.75,1]],5000)\n",
    "x2=np.random.multivariate_normal([0,1],[[1,0.75],[0.75,1]],5000)\n",
    "x=np.vstack((x1,x2))\n",
    "y=np.hstack((np.zeros(5000),np.ones(5000)))\n",
    "\n",
    "gradient(x1=x[:,1],x2=x[:,0],theta_1=1,theta_2=2,theta_0=3,alpha=0.1,maxloop=2000,y=y)"
   ]
  }
 ],
 "metadata": {
  "kernelspec": {
   "display_name": "tensorflow35",
   "language": "python",
   "name": "tensorflow35"
  },
  "language_info": {
   "codemirror_mode": {
    "name": "ipython",
    "version": 3
   },
   "file_extension": ".py",
   "mimetype": "text/x-python",
   "name": "python",
   "nbconvert_exporter": "python",
   "pygments_lexer": "ipython3",
   "version": "3.5.4"
  },
  "latex_envs": {
   "LaTeX_envs_menu_present": true,
   "autoclose": false,
   "autocomplete": true,
   "bibliofile": "biblio.bib",
   "cite_by": "apalike",
   "current_citInitial": 1,
   "eqLabelWithNumbers": true,
   "eqNumInitial": 1,
   "hotkeys": {
    "equation": "Ctrl-E",
    "itemize": "Ctrl-I"
   },
   "labels_anchors": false,
   "latex_user_defs": false,
   "report_style_numbering": false,
   "user_envs_cfg": false
  },
  "toc": {
   "base_numbering": 1,
   "nav_menu": {},
   "number_sections": true,
   "sideBar": true,
   "skip_h1_title": false,
   "title_cell": "Table of Contents",
   "title_sidebar": "Contents",
   "toc_cell": false,
   "toc_position": {},
   "toc_section_display": true,
   "toc_window_display": false
  },
  "varInspector": {
   "cols": {
    "lenName": 16,
    "lenType": 16,
    "lenVar": 40
   },
   "kernels_config": {
    "python": {
     "delete_cmd_postfix": "",
     "delete_cmd_prefix": "del ",
     "library": "var_list.py",
     "varRefreshCmd": "print(var_dic_list())"
    },
    "r": {
     "delete_cmd_postfix": ") ",
     "delete_cmd_prefix": "rm(",
     "library": "var_list.r",
     "varRefreshCmd": "cat(var_dic_list()) "
    }
   },
   "types_to_exclude": [
    "module",
    "function",
    "builtin_function_or_method",
    "instance",
    "_Feature"
   ],
   "window_display": false
  }
 },
 "nbformat": 4,
 "nbformat_minor": 2
}
